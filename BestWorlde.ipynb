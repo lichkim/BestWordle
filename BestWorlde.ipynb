{
 "cells": [
  {
   "cell_type": "code",
   "execution_count": 1,
   "metadata": {},
   "outputs": [],
   "source": [
    "from winreg import QueryReflectionKey"
   ]
  },
  {
   "cell_type": "code",
   "execution_count": 2,
   "metadata": {},
   "outputs": [],
   "source": [
    "def isall(arr : list, obj : object) -> bool:\n",
    "    for temp in arr:\n",
    "        if temp != obj:\n",
    "            return False\n",
    "    return True"
   ]
  },
  {
   "cell_type": "code",
   "execution_count": 3,
   "metadata": {},
   "outputs": [],
   "source": [
    "words_list = []\n",
    "f = open(\"./FiveLetterWords.txt\", 'r')\n",
    "while True:\n",
    "    word = f.readline()     \n",
    "    newword = word.strip()      #공백문자인 \\n을 제거한다.\n",
    "    words_list.append(newword)\n",
    "    if not word: break\n",
    "f.close()\n",
    "words_list.sort()\n",
    "words_list.remove('')\n",
    "\n",
    "#하다보니 없는 단어들\n",
    "words_list.remove('latin')\n",
    "words_list.remove('klugy')"
   ]
  },
  {
   "cell_type": "code",
   "execution_count": 4,
   "metadata": {},
   "outputs": [
    {
     "data": {
      "text/plain": [
       "1"
      ]
     },
     "execution_count": 4,
     "metadata": {},
     "output_type": "execute_result"
    }
   ],
   "source": [
    "words_list.count(\"spill\")"
   ]
  },
  {
   "cell_type": "code",
   "execution_count": 5,
   "metadata": {},
   "outputs": [],
   "source": [
    "letter_frequency = [[\"a\", 0], [\"b\", 0], [\"c\", 0], [\"d\", 0], [\"e\", 0], [\"f\", 0], [\"g\", 0], [\"h\", 0], [\"i\", 0], [\"j\", 0], [\"k\", 0], [\"l\", 0], [\"m\", 0], [\"n\", 0], [\"o\", 0], [\"p\", 0], [\"q\", 0], [\"r\", 0], [\"s\", 0], [\"t\", 0], [\"u\", 0], [\"v\", 0], [\"w\", 0], [\"x\", 0], [\"y\", 0], [\"z\", 0]]"
   ]
  },
  {
   "cell_type": "code",
   "execution_count": 6,
   "metadata": {},
   "outputs": [],
   "source": [
    "for temp in words_list:\n",
    "    for c in temp:\n",
    "        letter_frequency[ord(c) - 97][1] = letter_frequency[ord(c) - 97][1] + 1"
   ]
  },
  {
   "cell_type": "code",
   "execution_count": 7,
   "metadata": {},
   "outputs": [],
   "source": [
    "for arr in letter_frequency:\n",
    "    arr.reverse()\n",
    "\n",
    "letter_frequency.sort()\n",
    "\n",
    "for arr in letter_frequency:\n",
    "    arr.reverse()\n",
    "\n",
    "letter_frequency.reverse()"
   ]
  },
  {
   "cell_type": "code",
   "execution_count": 8,
   "metadata": {},
   "outputs": [
    {
     "name": "stdout",
     "output_type": "stream",
     "text": [
      "[['s', 3033], ['e', 3009], ['a', 2347], ['o', 1915], ['r', 1910], ['i', 1591], ['t', 1584], ['l', 1584], ['n', 1284], ['d', 1181], ['u', 1088], ['c', 964], ['p', 955], ['y', 885], ['m', 843], ['h', 814], ['b', 715], ['g', 678], ['k', 595], ['f', 561], ['w', 505], ['v', 318], ['x', 139], ['z', 135], ['j', 89], ['q', 53]]\n"
     ]
    }
   ],
   "source": [
    "print(letter_frequency)"
   ]
  },
  {
   "cell_type": "code",
   "execution_count": 9,
   "metadata": {},
   "outputs": [],
   "source": [
    "letter_used_most = list()\n",
    "\n",
    "for arr in letter_frequency:\n",
    "    letter_used_most.append(arr[0])"
   ]
  },
  {
   "cell_type": "code",
   "execution_count": 10,
   "metadata": {},
   "outputs": [
    {
     "name": "stdout",
     "output_type": "stream",
     "text": [
      "['s', 'e', 'a', 'o', 'r', 'i', 't', 'l', 'n', 'd', 'u', 'c', 'p', 'y', 'm', 'h', 'b', 'g', 'k', 'f', 'w', 'v', 'x', 'z', 'j', 'q']\n"
     ]
    }
   ],
   "source": [
    "print(letter_used_most)"
   ]
  },
  {
   "cell_type": "markdown",
   "metadata": {},
   "source": [
    "위의 리스트가 가장 많이 사용된 단어들의 리스트임을 알았으니, 첫 단어로 가장 적절한 단어를 찾아보자."
   ]
  },
  {
   "cell_type": "code",
   "execution_count": 11,
   "metadata": {},
   "outputs": [],
   "source": [
    "words_list.sort()"
   ]
  },
  {
   "cell_type": "code",
   "execution_count": 12,
   "metadata": {},
   "outputs": [],
   "source": [
    "def dfs(arr : list, cnt : int, history : str, result_arr : list) -> list: #5글자로 가능한 모든 단어의 조합을 만드는 함수\n",
    "    if (cnt == 5):\n",
    "        result_arr.append(history)\n",
    "        return result_arr\n",
    "    \n",
    "    for tmp in arr:\n",
    "        if tmp not in history:\n",
    "            new_history = history\n",
    "            new_history += tmp\n",
    "            dfs(arr, cnt + 1, new_history, result_arr)\n",
    "    \n",
    "    return result_arr"
   ]
  },
  {
   "cell_type": "code",
   "execution_count": 13,
   "metadata": {},
   "outputs": [],
   "source": [
    "def dfs_overlap(arr : list, cnt : int, history : str, result_arr : list) -> list: #5글자로 가능한 모든 단어의 조합을 만드는 함수. 중복 글자 가능\n",
    "    if (cnt == 5):\n",
    "        result_arr.append(history)\n",
    "        return result_arr\n",
    "    \n",
    "    for tmp in arr:\n",
    "        new_history = history\n",
    "        new_history += tmp\n",
    "        dfs_overlap(arr, cnt + 1, new_history, result_arr)\n",
    "    \n",
    "    return result_arr"
   ]
  },
  {
   "cell_type": "code",
   "execution_count": 14,
   "metadata": {},
   "outputs": [
    {
     "name": "stdout",
     "output_type": "stream",
     "text": [
      "arose\n"
     ]
    }
   ],
   "source": [
    "flag = False\n",
    "for a in range(22): #22인 이유는 총 알파벳 수 인 26개에서 5개를 제외하면 21개인데 ragne함수는 끝은 포함 안하니까\n",
    "    if flag:\n",
    "        break\n",
    "    for b in range(a + 1, 23):\n",
    "        if flag:\n",
    "            break\n",
    "        for c in range(b + 1, 24):\n",
    "            if flag:\n",
    "                break\n",
    "            for d in range(c + 1, 25):\n",
    "                if flag:\n",
    "                    break\n",
    "                for e in range(d + 1, 26):\n",
    "                    if flag:\n",
    "                        break\n",
    "                    five_letter_words_list = list()\n",
    "                    letters_list = list()\n",
    "\n",
    "                    #5글자로 만들 수 있는 모든 단어를 구한다.\n",
    "                    letters_list.append(letter_used_most[a])\n",
    "                    letters_list.append(letter_used_most[b])\n",
    "                    letters_list.append(letter_used_most[c])\n",
    "                    letters_list.append(letter_used_most[d])\n",
    "                    letters_list.append(letter_used_most[e])\n",
    "                    \n",
    "                    five_letter_words_list = dfs(letters_list, 0, '', [])\n",
    "\n",
    "                    for word in five_letter_words_list:\n",
    "                        if word in words_list:\n",
    "                            flag = True\n",
    "                            print(word)\n",
    "                            break"
   ]
  },
  {
   "cell_type": "markdown",
   "metadata": {},
   "source": [
    "첫 단어로 가장 적절한 단어는 arose인걸 알았으니, 이제 wordle의 단어를 추천해주는 프로그램을 만들자."
   ]
  },
  {
   "cell_type": "code",
   "execution_count": 15,
   "metadata": {},
   "outputs": [],
   "source": [
    "def find_best_word(wrd_input : list, res_input : list) -> str:\n",
    "    tmp_list = list()\n",
    "\n",
    "    #모두 볼일때 : 애너그램을 찾으면 된다. 이 때는 가능한 모든 단어의 리스트를 공백을 기준으로 나누는 str을 반환한다.\n",
    "    if isall(res_input, 1): \n",
    "        avialable_word_list = dfs(wrd_input, 0, str(), list())\n",
    "        answer = str()\n",
    "        for word in avialable_word_list:\n",
    "            if word in words_list:  #가능한 실제 단어를 찾았다면 answer에 더하여 공백을 기준으로 단어를 나눈다.\n",
    "                answer += word\n",
    "                answer += \" \"\n",
    "        return answer\n",
    "    \n",
    "    #이외의 경우엔 볼, 스트라이크, 아웃의 개수를 세서 가능한 단어를 만든다.\n",
    "    else:\n",
    "        guess_list = list()\n",
    "        to_remove_list = list()\n",
    "        for i in range(len(res_input)):\n",
    "            if wrd_input.count(wrd_input[i]) >= 2:          #중복되는 문자가 있을 때\n",
    "                if res_input[i] == 0:                       #아웃\n",
    "                    for word in words_list:\n",
    "                        if word[i] == wrd_input[i]:\n",
    "                            to_remove_list.append(word)\n",
    "                elif res_input[i] == 1:                     #볼\n",
    "                    for word in words_list:\n",
    "                        if word[i] == wrd_input[i]:\n",
    "                            to_remove_list.append(word)\n",
    "                elif res_input[i] == 2:                     #스트라이크\n",
    "                    for word in words_list:\n",
    "                        if word[i] != wrd_input[i]:\n",
    "                            to_remove_list.append(word)\n",
    "                for word in to_remove_list:\n",
    "                    if word in words_list:\n",
    "                        words_list.remove(word)\n",
    "            else:                                           #중복되는 문자가 없을 때\n",
    "                if res_input[i] == 0:                       #아웃\n",
    "                    if wrd_input[i] in letter_used_most:\n",
    "                        letter_used_most.remove(wrd_input[i])\n",
    "                    for word in words_list:\n",
    "                        if wrd_input[i] in word:\n",
    "                            to_remove_list.append(word)\n",
    "                elif res_input[i] == 1:                     #볼\n",
    "                    guess_list.append(wrd_input[i])\n",
    "                    for word in words_list:\n",
    "                        if wrd_input[i] == word[i]:\n",
    "                            to_remove_list.append(word)\n",
    "                        if wrd_input[i] not in word:\n",
    "                            to_remove_list.append(word)\n",
    "                elif res_input[i] == 2:                     #스트라이크\n",
    "                    guess_list.append(wrd_input[i])\n",
    "                    for word in words_list:\n",
    "                            if wrd_input[i] != word[i]:\n",
    "                                to_remove_list.append(word)\n",
    "                for word in to_remove_list:\n",
    "                    if word in words_list:\n",
    "                        words_list.remove(word)\n",
    "                to_remove_list = list()\n",
    "                \n",
    "        if len(guess_list) == 4:\n",
    "            for a in range(0, len(letter_used_most)):\n",
    "                guess = list(guess_list)\n",
    "                guess.append(letter_used_most[a])\n",
    "                avialable_word_list = dfs(guess, 0, str(), list())\n",
    "                for word in avialable_word_list:\n",
    "                    if word in words_list:\n",
    "                        return word\n",
    "        elif len(guess_list) == 3:\n",
    "            for a in range(0, len(letter_used_most) - 1):\n",
    "                for b in range(a + 1, len(letter_used_most)):\n",
    "                    guess = list(guess_list)\n",
    "                    guess.append(letter_used_most[a])\n",
    "                    guess.append(letter_used_most[b])\n",
    "                    avialable_word_list = dfs(guess, 0, str(), list())\n",
    "                    for word in avialable_word_list:\n",
    "                        if word in words_list:\n",
    "                            return word\n",
    "        elif len(guess_list) == 2:\n",
    "            for a in range(0, len(letter_used_most) - 2):\n",
    "                for b in range(a + 1, len(letter_used_most) - 1):\n",
    "                    for c in range(b + 1, len(letter_used_most)):\n",
    "                        guess = list(guess_list)\n",
    "                        guess.append(letter_used_most[a])\n",
    "                        guess.append(letter_used_most[b])\n",
    "                        guess.append(letter_used_most[c])\n",
    "                        avialable_word_list = dfs(guess, 0, str(), list())\n",
    "                        for word in avialable_word_list:\n",
    "                            if word in words_list:\n",
    "                                return word\n",
    "        elif len(guess_list) == 1:\n",
    "            for a in range(0, len(letter_used_most) - 3):\n",
    "                for b in range(a + 1, len(letter_used_most) - 2):\n",
    "                    for c in range(b + 1, len(letter_used_most) - 1):\n",
    "                        for d in range(c + 1, len(letter_used_most)):\n",
    "                            guess = list(guess_list)\n",
    "                            guess.append(letter_used_most[a])\n",
    "                            guess.append(letter_used_most[b])\n",
    "                            guess.append(letter_used_most[c])\n",
    "                            guess.append(letter_used_most[d])\n",
    "                            avialable_word_list = dfs(guess, 0, str(), list())\n",
    "                            for word in avialable_word_list:\n",
    "                                if word in words_list:\n",
    "                                    return word\n",
    "        \n",
    "        elif len(guess_list) == 0:\n",
    "            for a in range(0, len(letter_used_most) - 4):\n",
    "                for b in range(a + 1, len(letter_used_most) - 3):\n",
    "                    for c in range(b + 1, len(letter_used_most) - 2):\n",
    "                        for d in range(c + 1, len(letter_used_most) - 1):\n",
    "                            for e in range(d + 1, len(letter_used_most)):\n",
    "                                guess = list(guess_list)\n",
    "                                guess.append(letter_used_most[a])\n",
    "                                guess.append(letter_used_most[b])\n",
    "                                guess.append(letter_used_most[c])\n",
    "                                guess.append(letter_used_most[d])\n",
    "                                guess.append(letter_used_most[e])\n",
    "                                avialable_word_list = dfs(guess, 0, str(), list())\n",
    "                                for word in avialable_word_list:\n",
    "                                    if word in words_list:\n",
    "                                        return word\n",
    "        \n",
    "        avialable_word_list = dfs_overlap(guess, 0, str(), list())  #여기까지 리턴이 안됐다면 중복이 있는 문자가 정답이기 때문\n",
    "        for word in avialable_word_list:\n",
    "            if word in words_list:\n",
    "                return word"
   ]
  },
  {
   "cell_type": "code",
   "execution_count": 16,
   "metadata": {},
   "outputs": [
    {
     "name": "stdout",
     "output_type": "stream",
     "text": [
      "추천단어 : arose\n",
      "\n",
      "추천단어 : broil\n",
      "\n",
      "추천단어 : front\n",
      "\n",
      "Success!\n",
      "\n"
     ]
    }
   ],
   "source": [
    "best_word = 'arose'\n",
    "for i in range(6):\n",
    "    print(f'추천단어 : {best_word}\\n')\n",
    "    word_input = input(\"실제 입력 단어: \")\n",
    "    result_input = list(map(int,input(\"결과 - 스트라이크 : 2, 볼 : 1, 아웃 : 0 , 공백으로 구분::: \").split()))\n",
    "    if isall(result_input, 2):\n",
    "        print('Success!\\n')\n",
    "        break\n",
    "    best_word = find_best_word(list(word_input), result_input)\n",
    "    "
   ]
  }
 ],
 "metadata": {
  "interpreter": {
   "hash": "38740d3277777e2cd7c6c2cc9d8addf5118fdf3f82b1b39231fd12aeac8aee8b"
  },
  "kernelspec": {
   "display_name": "Python 3.8.2 32-bit",
   "language": "python",
   "name": "python3"
  },
  "language_info": {
   "codemirror_mode": {
    "name": "ipython",
    "version": 3
   },
   "file_extension": ".py",
   "mimetype": "text/x-python",
   "name": "python",
   "nbconvert_exporter": "python",
   "pygments_lexer": "ipython3",
   "version": "3.8.2"
  },
  "orig_nbformat": 4
 },
 "nbformat": 4,
 "nbformat_minor": 2
}
