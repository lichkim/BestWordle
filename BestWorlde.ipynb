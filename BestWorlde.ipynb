{
 "cells": [
  {
   "cell_type": "code",
   "execution_count": null,
   "metadata": {},
   "outputs": [],
   "source": [
    "from winreg import QueryReflectionKey"
   ]
  },
  {
   "cell_type": "code",
   "execution_count": null,
   "metadata": {},
   "outputs": [],
   "source": [
    "def isall(arr : list, obj : object) -> bool:\n",
    "    for temp in arr:\n",
    "        if temp != obj:\n",
    "            return False\n",
    "    return True"
   ]
  },
  {
   "cell_type": "code",
   "execution_count": null,
   "metadata": {},
   "outputs": [],
   "source": [
    "words_list = []\n",
    "f = open(\"./FiveLetterWords.txt\", 'r')\n",
    "while True:\n",
    "    word = f.readline()     \n",
    "    newword = word.strip()      #공백문자인 \\n을 제거한다.\n",
    "    words_list.append(newword)\n",
    "    if not word: break\n",
    "f.close()\n",
    "words_list.sort()\n",
    "words_list.remove('')"
   ]
  },
  {
   "cell_type": "code",
   "execution_count": null,
   "metadata": {},
   "outputs": [],
   "source": [
    "letter_frequency = [[\"a\", 0], [\"b\", 0], [\"c\", 0], [\"d\", 0], [\"e\", 0], [\"f\", 0], [\"g\", 0], [\"h\", 0], [\"i\", 0], [\"j\", 0], [\"k\", 0], [\"l\", 0], [\"m\", 0], [\"n\", 0], [\"o\", 0], [\"p\", 0], [\"q\", 0], [\"r\", 0], [\"s\", 0], [\"t\", 0], [\"u\", 0], [\"v\", 0], [\"w\", 0], [\"x\", 0], [\"y\", 0], [\"z\", 0]]"
   ]
  },
  {
   "cell_type": "code",
   "execution_count": null,
   "metadata": {},
   "outputs": [],
   "source": [
    "for temp in words_list:\n",
    "    for c in temp:\n",
    "        letter_frequency[ord(c) - 97][1] = letter_frequency[ord(c) - 97][1] + 1"
   ]
  },
  {
   "cell_type": "code",
   "execution_count": null,
   "metadata": {},
   "outputs": [],
   "source": [
    "for arr in letter_frequency:\n",
    "    arr.reverse()\n",
    "\n",
    "letter_frequency.sort()\n",
    "\n",
    "for arr in letter_frequency:\n",
    "    arr.reverse()\n",
    "\n",
    "letter_frequency.reverse()"
   ]
  },
  {
   "cell_type": "code",
   "execution_count": null,
   "metadata": {},
   "outputs": [],
   "source": [
    "print(letter_frequency)"
   ]
  },
  {
   "cell_type": "code",
   "execution_count": null,
   "metadata": {},
   "outputs": [],
   "source": [
    "letter_used_most = list()\n",
    "\n",
    "for arr in letter_frequency:\n",
    "    letter_used_most.append(arr[0])"
   ]
  },
  {
   "cell_type": "code",
   "execution_count": null,
   "metadata": {},
   "outputs": [],
   "source": [
    "print(letter_used_most)"
   ]
  },
  {
   "cell_type": "code",
   "execution_count": null,
   "metadata": {},
   "outputs": [],
   "source": [
    "words_list.sort()"
   ]
  },
  {
   "cell_type": "code",
   "execution_count": null,
   "metadata": {},
   "outputs": [],
   "source": [
    "def dfs(arr : list, cnt : int, history : str, result_arr : list) -> list: #5글자로 가능한 모든 단어의 조합을 만드는 함수\n",
    "    if (cnt == 5):\n",
    "        result_arr.append(history)\n",
    "        return result_arr\n",
    "    \n",
    "    for tmp in arr:\n",
    "        if tmp not in history:\n",
    "            new_history = history\n",
    "            new_history += tmp\n",
    "            dfs(arr, cnt + 1, new_history, result_arr)\n",
    "    \n",
    "    return result_arr"
   ]
  },
  {
   "cell_type": "code",
   "execution_count": null,
   "metadata": {},
   "outputs": [],
   "source": [
    "flag = False\n",
    "for a in range(22): #22인 이유는 총 알파벳 수 인 26개에서 5개를 제외하면 21개인데 ragne함수는 끝은 포함 안하니까\n",
    "    if flag:\n",
    "        break\n",
    "    for b in range(a + 1, 23):\n",
    "        if flag:\n",
    "            break\n",
    "        for c in range(b + 1, 24):\n",
    "            if flag:\n",
    "                break\n",
    "            for d in range(c + 1, 25):\n",
    "                if flag:\n",
    "                    break\n",
    "                for e in range(d + 1, 26):\n",
    "                    if flag:\n",
    "                        break\n",
    "                    five_letter_words_list = list()\n",
    "                    letters_list = list()\n",
    "\n",
    "                    #5글자로 만들 수 있는 모든 단어를 구한다.\n",
    "                    letters_list.append(letter_used_most[a])\n",
    "                    letters_list.append(letter_used_most[b])\n",
    "                    letters_list.append(letter_used_most[c])\n",
    "                    letters_list.append(letter_used_most[d])\n",
    "                    letters_list.append(letter_used_most[e])\n",
    "                    \n",
    "                    five_letter_words_list = dfs(letters_list, 0, '', [])\n",
    "\n",
    "                    for word in five_letter_words_list:\n",
    "                        if word in words_list:\n",
    "                            flag = True\n",
    "                            print(word)\n",
    "                            break"
   ]
  },
  {
   "cell_type": "code",
   "execution_count": null,
   "metadata": {},
   "outputs": [],
   "source": [
    "def find_best_word(wrd_input : list, res_input : list) -> str:\n",
    "    tmp_list = list()\n",
    "    #모두 아웃일때 : letter_used_most에서 wrd_input의 요소를 모두 제거하고 그 다음으로 가장 많이 쓰인 글자로 만들어진 단어를 찾는다\n",
    "    if isall(res_input, 0):\n",
    "        \n",
    "        for letter in wrd_input:\n",
    "            letter_used_most.remove(letter)\n",
    "        \n",
    "        for i in range(5):\n",
    "            tmp_list.append(letter_used_most[i])    #tmp_list에 그다음으로 가장 많이 쓰인 글자를 집어넣는다\n",
    "        \n",
    "        avialable_word_list = dfs(tmp_list, 0, str(), list())  #가장 많이 쓰는 글자들로 만들 수 있는 모든 단어의 리스트\n",
    "        \n",
    "        for word in avialable_word_list:\n",
    "            if word in words_list:      #실제 단어가 있다면 그 단어를 반환한다\n",
    "                return word\n",
    "\n",
    "    #모두 볼일때 : 애너그램을 찾으면 된다. 이 때는 가능한 모든 단어의 리스트를 공백을 기준으로 나누는 str을 반환한다.\n",
    "    elif isall(res_input, 1): \n",
    "        avialable_word_list = dfs(wrd_input, 0, str(), list())\n",
    "        answer = str()\n",
    "        for word in avialable_word_list:\n",
    "            if word in words_list:  #가능한 실제 단어를 찾았다면 answer에 더하여 공백을 기준으로 단어를 나눈다.\n",
    "                answer += word\n",
    "                answer += \" \"\n",
    "        return answer\n",
    "    \n",
    "    #이외의 경우엔 볼, 스트라이크, 아웃의 개수를 세서 가능한 단어를 만든다.\n",
    "    else:\n",
    "        guess_list = list()\n",
    "        for i in range(len(res_input)):\n",
    "            if res_input[i] == 0:   #아웃\n",
    "                if wrd_input[i] in letter_used_most:    #letter_used_most 에서 해당 글자를 제거하여 추측 리스트에 들어가지 않도록 한다.\n",
    "                    letter_used_most.remove(wrd_input[i])\n",
    "                for word in words_list: #전체 단어 모음집인 words_list에서 아웃에 해당하는 문자가 들어간 단어를 제거한다.\n",
    "                    if wrd_input[i] in word:\n",
    "                        words_list.remove(word)\n",
    "            elif res_input[i] == 1: #볼\n",
    "                guess_list.append(wrd_input[i])\n",
    "                for word in words_list:\n",
    "                    if word[i] == wrd_input[i] or wrd_input[i] not in word: #단어 안에 해당 글자가 없거나 단어 안의 해당 글자와 위치가 같으면 제거 볼에 대한 정보는 중복 문자에 관해서도 제공해준다\n",
    "                        words_list.remove(word)\n",
    "            else:                   #스트라이크\n",
    "                guess_list.append(wrd_input[i])\n",
    "                for word in words_list:\n",
    "                    if wrd_input[i] != word[i]:         #스트라이크에 해당하는 위치에 해당 문자가 없다면 제거. 스트라이크가 제공하는 정보는 중복 문자 관련해서는 제공해주지 않는다\n",
    "                        words_list.remove(word)\n",
    "        \n",
    "        if len(guess_list) == 4:\n",
    "            for chr in guess_list:\n",
    "                guess = list(guess_list)\n",
    "                guess.append(chr)\n",
    "                avialable_word_list = dfs(guess, 0, str(), list())\n",
    "                for word in avialable_word_list:\n",
    "                    if word in words_list:\n",
    "                        return word\n",
    "        elif len(guess_list) == 3:\n",
    "            for a in range(0, len(letter_used_most) - 1):\n",
    "                for b in range(a, len(letter_used_most)):\n",
    "                    guess = list(guess_list)\n",
    "                    guess.append(letter_used_most[a])\n",
    "                    guess.append(letter_used_most[b])\n",
    "                    avialable_word_list = dfs(guess, 0, str(), list())\n",
    "                    for word in avialable_word_list:\n",
    "                        if word in words_list:\n",
    "                            return word\n",
    "        elif len(guess_list) == 2:\n",
    "            for a in range(0, len(letter_used_most) - 2):\n",
    "                for b in range(a, len(letter_used_most) - 1):\n",
    "                    for c in range(b, len(letter_used_most)):\n",
    "                        guess = list(guess_list)\n",
    "                        guess.append(letter_used_most[a])\n",
    "                        guess.append(letter_used_most[b])\n",
    "                        guess.append(letter_used_most[c])\n",
    "                        avialable_word_list = dfs(guess, 0, str(), list())\n",
    "                        for word in avialable_word_list:\n",
    "                            if word in words_list:\n",
    "                                return word\n",
    "        elif len(guess_list) == 1:\n",
    "            for a in range(0, len(letter_used_most) - 3):\n",
    "                for b in range(a, len(letter_used_most) - 2):\n",
    "                    for c in range(b, len(letter_used_most) - 1):\n",
    "                        for d in range(c, len(letter_used_most)):\n",
    "                            guess = list(guess_list)\n",
    "                            guess.append(letter_used_most[a])\n",
    "                            guess.append(letter_used_most[b])\n",
    "                            guess.append(letter_used_most[c])\n",
    "                            guess.append(letter_used_most[d])\n",
    "                            avialable_word_list = dfs(guess, 0, str(), list())\n",
    "                            for word in avialable_word_list:\n",
    "                                if word in words_list:\n",
    "                                    return word"
   ]
  },
  {
   "cell_type": "code",
   "execution_count": null,
   "metadata": {},
   "outputs": [],
   "source": [
    "best_word = 'arose'\n",
    "for i in range(6):\n",
    "    print(f'추천단어 : {best_word}\\n')\n",
    "    word_input = input(\"실제 입력 단어: \")\n",
    "    result_input = list(map(int,input(\"결과 - 스트라이크 : 2, 볼 : 1, 아웃 : 0 , 공백으로 구분::: \").split()))\n",
    "    if isall(result_input, 2):\n",
    "        print('Success!\\n')\n",
    "        break\n",
    "    best_word = find_best_word(list(word_input), result_input)\n",
    "    "
   ]
  }
 ],
 "metadata": {
  "language_info": {
   "name": "python"
  },
  "orig_nbformat": 4
 },
 "nbformat": 4,
 "nbformat_minor": 2
}
